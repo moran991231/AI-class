{
 "cells": [
  {
   "cell_type": "code",
   "execution_count": 1,
   "metadata": {},
   "outputs": [],
   "source": [
    "import torch\n",
    "import pandas as pd\n",
    "import numpy as np\n",
    "import matplotlib.pyplot as plt\n",
    "from torch.utils.data import Dataset, DataLoader,TensorDataset, random_split\n",
    "\n",
    "import torch.nn as nn\n",
    "import torch.optim as optim"
   ]
  },
  {
   "cell_type": "code",
   "execution_count": 2,
   "metadata": {},
   "outputs": [],
   "source": [
    "dataframe_raw = pd.read_csv(\"./winequality-white.csv\",delimiter=\";\")"
   ]
  },
  {
   "cell_type": "code",
   "execution_count": 57,
   "metadata": {},
   "outputs": [
    {
     "data": {
      "text/plain": [
       "((4898, 11), (4898, 7))"
      ]
     },
     "execution_count": 57,
     "metadata": {},
     "output_type": "execute_result"
    }
   ],
   "source": [
    "def dataframe_to_arrays(dataframe):\n",
    "    input_cols = list(dataframe.columns)[:-1]\n",
    "    output_cols=list(dataframe.columns)[-1:]\n",
    "    dataframe1 = dataframe_raw.copy(deep=True)\n",
    "    inputs_array = dataframe1[input_cols].to_numpy(dtype=np.float32)\n",
    "    targets_array = dataframe1[output_cols].to_numpy(dtype=int).squeeze(1)-3\n",
    "    encoding =np.eye(7)[targets_array]\n",
    "\n",
    "    return inputs_array, encoding\n",
    "inputs_array, targets_array = dataframe_to_arrays(dataframe_raw)\n",
    "inputs_array.shape, targets_array.shape"
   ]
  },
  {
   "cell_type": "code",
   "execution_count": 58,
   "metadata": {},
   "outputs": [],
   "source": [
    "inputs = torch.from_numpy(inputs_array)\n",
    "targets = torch.from_numpy(targets_array)\n",
    "\n",
    "dataset = TensorDataset(inputs, targets )\n",
    "num_samples = inputs.shape[0]\n",
    "num_train = int(num_samples*0.8); num_val = num_samples-num_train\n",
    "train_ds, val_ds = random_split(dataset,[num_train,num_val])\n",
    "train_loader = DataLoader(train_ds, batch_size=50, shuffle=True)\n",
    "val_loader = DataLoader(val_ds, batch_size=50)"
   ]
  },
  {
   "cell_type": "code",
   "execution_count": 70,
   "metadata": {},
   "outputs": [],
   "source": [
    "def training_loop(model, optimizer, loss_fn, n_epochs, train_loader, val_loader):\n",
    "    for epoch in range(n_epochs):\n",
    "        for inputs, labels in train_loader:\n",
    "            inputs, labels = inputs.to('cuda'), labels.to('cuda')\n",
    "            outputs = model(inputs)\n",
    "            loss = loss_fn(outputs, labels)\n",
    "            optimizer.zero_grad()\n",
    "            loss.backward()\n",
    "            optimizer.step()\n",
    "\n",
    "        if(epoch<=2 or epoch%100==0):\n",
    "            correct=0;total=0\n",
    "            with torch.no_grad():\n",
    "                for inputs, labels in val_loader:\n",
    "                    inputs, labels = inputs.to('cuda'), labels.to('cuda')\n",
    "                    outputs = model(inputs)\n",
    "                    _, predicted = torch.max(outputs, dim=1)\n",
    "                    for label, p in zip(labels, predicted):\n",
    "                        if(int(label[int(p)])==1):\n",
    "                            correct+=1                    \n",
    "                    total+= labels.shape[0]\n",
    "            print(f\"Epoch: {epoch} Loss: {float(loss)}  accuracy: {correct}/{total} = {100.0*correct/total:4.1f}%\")\n",
    "        "
   ]
  },
  {
   "cell_type": "code",
   "execution_count": 72,
   "metadata": {},
   "outputs": [
    {
     "name": "stdout",
     "output_type": "stream",
     "text": [
      "Epoch: 0 Loss: 1.547162695063485  accuracy: 456/980 = 46.5%\n",
      "Epoch: 1 Loss: 1.0841140117910173  accuracy: 440/980 = 44.9%\n",
      "Epoch: 2 Loss: 1.1337741679615443  accuracy: 453/980 = 46.2%\n",
      "Epoch: 100 Loss: 1.2473480701446533  accuracy: 443/980 = 45.2%\n",
      "Epoch: 200 Loss: 1.4056227670775518  accuracy: 448/980 = 45.7%\n",
      "Epoch: 300 Loss: 1.9363383187188041  accuracy: 459/980 = 46.8%\n",
      "Epoch: 400 Loss: 1.0530235601796043  accuracy: 455/980 = 46.4%\n",
      "Epoch: 500 Loss: 0.953823255168067  accuracy: 450/980 = 45.9%\n",
      "Epoch: 600 Loss: 1.137210930387179  accuracy: 448/980 = 45.7%\n",
      "Epoch: 700 Loss: 1.3084136810567644  accuracy: 456/980 = 46.5%\n",
      "Epoch: 800 Loss: 1.1865714655982122  accuracy: 454/980 = 46.3%\n",
      "Epoch: 900 Loss: 1.3573980463875663  accuracy: 458/980 = 46.7%\n",
      "Epoch: 1000 Loss: 1.1618153088622623  accuracy: 453/980 = 46.2%\n",
      "Epoch: 1100 Loss: 1.159296327167087  accuracy: 458/980 = 46.7%\n",
      "Epoch: 1200 Loss: 1.4308652944034999  accuracy: 461/980 = 47.0%\n",
      "Epoch: 1300 Loss: 1.1232680214775932  accuracy: 456/980 = 46.5%\n",
      "Epoch: 1400 Loss: 1.0730340215894911  accuracy: 456/980 = 46.5%\n",
      "Epoch: 1500 Loss: 1.211441374487347  accuracy: 446/980 = 45.5%\n",
      "Epoch: 1600 Loss: 1.264259902967347  accuracy: 450/980 = 45.9%\n",
      "Epoch: 1700 Loss: 1.205850385957294  accuracy: 449/980 = 45.8%\n",
      "Epoch: 1800 Loss: 1.338386070397165  accuracy: 446/980 = 45.5%\n",
      "Epoch: 1900 Loss: 1.1237164553668764  accuracy: 443/980 = 45.2%\n"
     ]
    }
   ],
   "source": [
    "\n",
    "model = nn.Sequential(\n",
    "    nn.Linear(11,100), \n",
    "    nn.ReLU(), \n",
    "    nn.Linear(100,100), \n",
    "    nn.ReLU(), \n",
    "    nn.Linear(100,100),\n",
    "    nn.ReLU(),\n",
    "    nn.Linear(100,7)\n",
    ").to('cuda')\n",
    "optimizer = optim.SGD(model.parameters(), lr = 1e-4)\n",
    "loss_fn = nn.CrossEntropyLoss()\n",
    "training_loop(model, optimizer, loss_fn,2000, train_loader, val_loader)"
   ]
  },
  {
   "cell_type": "code",
   "execution_count": null,
   "metadata": {},
   "outputs": [],
   "source": [
    "# https://pkm294.tistory.com/45?category=997016"
   ]
  }
 ],
 "metadata": {
  "interpreter": {
   "hash": "073421e87fd17c22a27d2f3fee98ef1fca5a2c350357a034bdf2d94dc9e5a0d1"
  },
  "kernelspec": {
   "display_name": "Python 3.9.7 64-bit ('ai_class': conda)",
   "language": "python",
   "name": "python3"
  },
  "language_info": {
   "codemirror_mode": {
    "name": "ipython",
    "version": 3
   },
   "file_extension": ".py",
   "mimetype": "text/x-python",
   "name": "python",
   "nbconvert_exporter": "python",
   "pygments_lexer": "ipython3",
   "version": "3.9.7"
  },
  "orig_nbformat": 4
 },
 "nbformat": 4,
 "nbformat_minor": 2
}
