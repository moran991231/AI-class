{
 "cells": [
  {
   "cell_type": "code",
   "execution_count": 1,
   "metadata": {},
   "outputs": [],
   "source": [
    "import torch\n",
    "import pandas as pd\n",
    "import numpy as np\n",
    "import matplotlib.pyplot as plt\n",
    "from torch.utils.data import Dataset, DataLoader,TensorDataset, random_split\n",
    "\n",
    "import torch.nn as nn\n",
    "import torch.optim as optim"
   ]
  },
  {
   "cell_type": "code",
   "execution_count": 2,
   "metadata": {},
   "outputs": [],
   "source": [
    "dataframe_raw = pd.read_csv(\"./winequality-white.csv\",delimiter=\";\")"
   ]
  },
  {
   "cell_type": "code",
   "execution_count": 6,
   "metadata": {},
   "outputs": [
    {
     "name": "stdout",
     "output_type": "stream",
     "text": [
      "[1 1 1 ... 1 1 1]\n"
     ]
    },
    {
     "data": {
      "text/plain": [
       "((4898, 11), (4898, 2))"
      ]
     },
     "execution_count": 6,
     "metadata": {},
     "output_type": "execute_result"
    }
   ],
   "source": [
    "def dataframe_to_arrays(dataframe):\n",
    "    input_cols = list(dataframe.columns)[:-1]\n",
    "    output_cols=list(dataframe.columns)[-1:]\n",
    "    dataframe1 = dataframe_raw.copy(deep=True)\n",
    "    inputs_array = dataframe1[input_cols].to_numpy(dtype=np.float32)\n",
    "    targets_array = dataframe1[output_cols].to_numpy(dtype=int).squeeze(1)\n",
    "    targets_array[targets_array<=5]=0\n",
    "    targets_array[targets_array>5]=1   \n",
    "    print(targets_array)\n",
    "    encoding =np.eye(2)[targets_array]\n",
    "\n",
    "    return inputs_array, encoding\n",
    "inputs_array, targets_array = dataframe_to_arrays(dataframe_raw)\n",
    "inputs_array.shape, targets_array.shape"
   ]
  },
  {
   "cell_type": "code",
   "execution_count": 7,
   "metadata": {},
   "outputs": [],
   "source": [
    "inputs = torch.from_numpy(inputs_array)\n",
    "targets = torch.from_numpy(targets_array)\n",
    "\n",
    "dataset = TensorDataset(inputs, targets )\n",
    "num_samples = inputs.shape[0]\n",
    "num_train = int(num_samples*0.8); num_val = num_samples-num_train\n",
    "train_ds, val_ds = random_split(dataset,[num_train,num_val])\n",
    "train_loader = DataLoader(train_ds, batch_size=64, shuffle=True)\n",
    "val_loader = DataLoader(val_ds, batch_size=64)"
   ]
  },
  {
   "cell_type": "code",
   "execution_count": 19,
   "metadata": {},
   "outputs": [],
   "source": [
    "def training_loop(model, optimizer, loss_fn, n_epochs, train_loader, val_loader):\n",
    "    for epoch in range(n_epochs):\n",
    "        for inputs, labels in train_loader:\n",
    "            # inputs, labels = inputs.to('cuda'), labels.to('cuda')\n",
    "            inputs, labels = inputs, labels\n",
    "            outputs = model(inputs)\n",
    "            loss = loss_fn(outputs, labels)\n",
    "            optimizer.zero_grad()\n",
    "            loss.backward()\n",
    "            optimizer.step()\n",
    "\n",
    "        if(epoch<=2 or epoch%100==0):\n",
    "            correct=0;total=0\n",
    "            with torch.no_grad():\n",
    "                for inputs, labels in val_loader:\n",
    "                    # inputs, labels = inputs.to('cuda'), labels.to('cuda')\n",
    "                    inputs, labels = inputs , labels \n",
    "                    outputs = model(inputs)\n",
    "                    _, predicted = torch.max(outputs, dim=1)\n",
    "                    for label, p in zip(labels, predicted):\n",
    "                        if(int(label[int(p)])==1):\n",
    "                            correct+=1                    \n",
    "                    total+= labels.shape[0]\n",
    "            print(f\"Epoch: {epoch} Loss: {float(loss):4f}  accuracy: {correct}/{total} = {100.0*correct/total:4.1f}%\")\n",
    "        "
   ]
  },
  {
   "cell_type": "code",
   "execution_count": 20,
   "metadata": {},
   "outputs": [
    {
     "name": "stdout",
     "output_type": "stream",
     "text": [
      "Epoch: 0 Loss: 0.543963  accuracy: 652/980 = 66.5%\n",
      "Epoch: 1 Loss: 0.156139  accuracy: 650/980 = 66.3%\n",
      "Epoch: 2 Loss: 0.754717  accuracy: 646/980 = 65.9%\n",
      "Epoch: 100 Loss: 0.509321  accuracy: 729/980 = 74.4%\n",
      "Epoch: 200 Loss: 0.547864  accuracy: 737/980 = 75.2%\n",
      "Epoch: 300 Loss: 0.610639  accuracy: 731/980 = 74.6%\n",
      "Epoch: 400 Loss: 0.468597  accuracy: 742/980 = 75.7%\n"
     ]
    }
   ],
   "source": [
    "\n",
    "model = nn.Sequential(\n",
    "    nn.Linear(11,64), \n",
    "    nn.ReLU(), \n",
    "    nn.Linear(64,64), \n",
    "    nn.ReLU(),\n",
    "    nn.Linear(64,2)\n",
    ")#.to('cuda')\n",
    "optimizer = optim.Adam(model.parameters(), lr = 1e-3)\n",
    "loss_fn = nn.CrossEntropyLoss()\n",
    "training_loop(model, optimizer, loss_fn,500, train_loader, val_loader)"
   ]
  },
  {
   "cell_type": "code",
   "execution_count": null,
   "metadata": {},
   "outputs": [],
   "source": [
    "# https://pkm294.tistory.com/45?category=997016"
   ]
  },
  {
   "cell_type": "code",
   "execution_count": 21,
   "metadata": {},
   "outputs": [
    {
     "name": "stdout",
     "output_type": "stream",
     "text": [
      "Epoch: 0 Loss: 0.281384  accuracy: 744/980 = 75.9%\n",
      "Epoch: 1 Loss: 0.256302  accuracy: 751/980 = 76.6%\n",
      "Epoch: 2 Loss: 0.367107  accuracy: 752/980 = 76.7%\n",
      "Epoch: 100 Loss: 0.499860  accuracy: 753/980 = 76.8%\n",
      "Epoch: 200 Loss: 0.738450  accuracy: 752/980 = 76.7%\n",
      "Epoch: 300 Loss: 0.539132  accuracy: 752/980 = 76.7%\n",
      "Epoch: 400 Loss: 0.557846  accuracy: 752/980 = 76.7%\n"
     ]
    }
   ],
   "source": [
    "optimizer = optim.SGD(model.parameters(), lr = 1e-5)\n",
    "training_loop(model, optimizer, loss_fn,500, train_loader, val_loader)"
   ]
  },
  {
   "cell_type": "code",
   "execution_count": null,
   "metadata": {},
   "outputs": [],
   "source": []
  }
 ],
 "metadata": {
  "interpreter": {
   "hash": "073421e87fd17c22a27d2f3fee98ef1fca5a2c350357a034bdf2d94dc9e5a0d1"
  },
  "kernelspec": {
   "display_name": "Python 3.9.7 64-bit ('ai_class': conda)",
   "language": "python",
   "name": "python3"
  },
  "language_info": {
   "codemirror_mode": {
    "name": "ipython",
    "version": 3
   },
   "file_extension": ".py",
   "mimetype": "text/x-python",
   "name": "python",
   "nbconvert_exporter": "python",
   "pygments_lexer": "ipython3",
   "version": "3.9.7"
  },
  "orig_nbformat": 4
 },
 "nbformat": 4,
 "nbformat_minor": 2
}
