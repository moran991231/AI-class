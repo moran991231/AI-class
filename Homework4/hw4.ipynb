{
 "cells": [
  {
   "cell_type": "code",
   "execution_count": 1,
   "metadata": {},
   "outputs": [],
   "source": [
    "import torch\n",
    "import torch.optim as optim\n",
    "import numpy as np"
   ]
  },
  {
   "cell_type": "code",
   "execution_count": 56,
   "metadata": {},
   "outputs": [],
   "source": [
    "def model(t_u: torch, w:torch, b)->torch: \n",
    "    if len(t_u.shape)==1:\n",
    "        return t_u*w+b\n",
    "    ret = torch.zeros(t_u.shape[0])\n",
    "    for i in range(0,t_u.shape[0]):\n",
    "        ret[i]=(t_u[i,:]*w).sum()+b\n",
    "    return ret\n",
    "\n",
    "def dmodel_dw(t_u:torch, w:torch, b):\n",
    "    return t_u\n",
    "\n",
    "def dmodel_db(t_u:torch, w:torch, b):\n",
    "    return 1.0\n",
    "    \n",
    "def loss_fn(t_p:torch, t_c: torch):\n",
    "    temp = (t_p - t_c)**2/2.0\n",
    "    return temp.mean()\n",
    "\n",
    "def dloss_fn(t_p:torch, t_c:torch):\n",
    "    temp = -(t_p - t_c)/t_p.size(0)\n",
    "    return temp\n",
    "\n",
    "def grad_fn(t_u:torch, t_c:torch, t_p:torch, w:torch, b):\n",
    "    dloss_dtp = dloss_fn(t_p,t_c)\n",
    "    dloss_dw = dloss_dtp*dmodel_dw(t_u, w, b)\n",
    "    dloss_db = dloss_dtp*dmodel_db(t_u,w,b)\n",
    "    return torch.stack([dloss_dw, dloss_db])\n"
   ]
  },
  {
   "cell_type": "code",
   "execution_count": 3,
   "metadata": {},
   "outputs": [],
   "source": [
    "# data\n",
    "t_c =[0.5, 14.0, 15.0, 28.0, 11.0, 8.0, 3.0, -4.0, 6.0, 13.0, 21.0] # answer\n",
    "t_u =[35.7, 55.9, 58.2, 81.9, 56.3, 48.9, 33.9, 21.8, 48.4, 60.4, 68.4] # input"
   ]
  },
  {
   "cell_type": "code",
   "execution_count": 4,
   "metadata": {},
   "outputs": [],
   "source": [
    "def add_squared_row(lst) -> np.ndarray:\n",
    "    temp = np.array([lst, lst]).T\n",
    "    temp[:,1] = temp[:,1]**2\n",
    "    return temp\n",
    "\n",
    "t_c =[0.5, 14.0, 15.0, 28.0, 11.0, 8.0, 3.0, -4.0, 6.0, 13.0, 21.0] # answer\n",
    "t_u =[35.7, 55.9, 58.2, 81.9, 56.3, 48.9, 33.9, 21.8, 48.4, 60.4, 68.4] # input\n"
   ]
  },
  {
   "cell_type": "code",
   "execution_count": 5,
   "metadata": {},
   "outputs": [],
   "source": [
    "def shuffle_and_devide_set(t_c: torch, t_u:torch, ratio):\n",
    "    n_samples = t_u.shape[0]\n",
    "    n_val = int(ratio*n_samples)\n",
    "\n",
    "    shuffled_indices = torch.randperm(n_samples)\n",
    "\n",
    "    train_indices = shuffled_indices[:-n_val]\n",
    "    val_indices = shuffled_indices[-n_val:]\n",
    "\n",
    "    train_indices, val_indices\n",
    "    train_t_u = t_u[train_indices]\n",
    "    train_t_c = t_c [train_indices]\n",
    "\n",
    "    val_t_u = t_u[val_indices]\n",
    "    val_t_c = t_c [val_indices]\n",
    "\n",
    "    return train_t_u, train_t_c, val_t_u, val_t_c"
   ]
  },
  {
   "cell_type": "code",
   "execution_count": 27,
   "metadata": {},
   "outputs": [],
   "source": [
    "def training_loop(n_epochs, optimizer, params, train_t_u, val_t_u,train_t_c, val_t_c):\n",
    "    for epoch in range(1, n_epochs+1):\n",
    "        train_t_p = model(train_t_u, params[1:],params[0])\n",
    "        train_loss = loss_fn(train_t_p, train_t_c)\n",
    "\n",
    "        with torch.no_grad():\n",
    "            val_t_p = model(val_t_u, params[1:],params[0])\n",
    "            val_loss = loss_fn(val_t_p, val_t_c)            \n",
    "            assert val_loss.requires_grad == False\n",
    "        \n",
    "        optimizer.zero_grad()\n",
    "        train_loss.backward()\n",
    "        optimizer.step()\n",
    "\n",
    "        \n",
    "        if epoch <=3 or epoch % 500 == 0:\n",
    "            print(f\"Epoch {epoch}, Training loss {train_loss.item():.4f}, Validation loss {val_loss.item():.4f}\")\n",
    "            # print('    param: ',params)\n",
    "    return params"
   ]
  },
  {
   "cell_type": "code",
   "execution_count": 61,
   "metadata": {},
   "outputs": [
    {
     "name": "stdout",
     "output_type": "stream",
     "text": [
      "Epoch 1, Training loss 372.4724, Validation loss 182.3080\n",
      "Epoch 2, Training loss 38.2776, Validation loss 28.7074\n",
      "Epoch 3, Training loss 8.3362, Validation loss 14.2582\n",
      "Epoch 500, Training loss 1.9655, Validation loss 7.2597\n",
      "Epoch 1000, Training loss 1.3604, Validation loss 5.5682\n",
      "Epoch 1500, Training loss 1.2545, Validation loss 4.9850\n",
      "Epoch 2000, Training loss 1.2354, Validation loss 4.7571\n",
      "Epoch 2500, Training loss 1.2315, Validation loss 4.6588\n",
      "Epoch 3000, Training loss 1.2302, Validation loss 4.6112\n",
      "Epoch 3500, Training loss 1.2294, Validation loss 4.5842\n",
      "Epoch 4000, Training loss 1.2287, Validation loss 4.5657\n",
      "Epoch 4500, Training loss 1.2280, Validation loss 4.5508\n",
      "Epoch 5000, Training loss 1.2273, Validation loss 4.5373\n",
      "Epoch 5500, Training loss 1.2266, Validation loss 4.5246\n",
      "Epoch 6000, Training loss 1.2259, Validation loss 4.5121\n",
      "Epoch 6500, Training loss 1.2252, Validation loss 4.4998\n",
      "Epoch 7000, Training loss 1.2245, Validation loss 4.4876\n",
      "Epoch 7500, Training loss 1.2238, Validation loss 4.4754\n",
      "Epoch 8000, Training loss 1.2231, Validation loss 4.4633\n",
      "Epoch 8500, Training loss 1.2225, Validation loss 4.4513\n",
      "Epoch 9000, Training loss 1.2218, Validation loss 4.4393\n",
      "Epoch 9500, Training loss 1.2211, Validation loss 4.4274\n",
      "Epoch 10000, Training loss 1.2204, Validation loss 4.4155\n"
     ]
    }
   ],
   "source": [
    "t_u_ = np.array(t_u)*0.1\n",
    "t_c_ = torch.tensor(t_c)\n",
    "t_u_ = torch.tensor(add_squared_row(t_u_))\n",
    "train_t_u, train_t_c, val_t_u, val_t_c = shuffle_and_devide_set(t_c_, t_u_, 0.2)\n",
    "params = torch.tensor([0.0,1.0,1.0], dtype=float, requires_grad=True)\n",
    "lr = 1e-3\n",
    "optimizer = optim.SGD([params],lr)\n",
    "params = training_loop(10000,optimizer, params, train_t_u, val_t_u,train_t_c,  val_t_c )"
   ]
  },
  {
   "cell_type": "code",
   "execution_count": 59,
   "metadata": {},
   "outputs": [
    {
     "name": "stdout",
     "output_type": "stream",
     "text": [
      "Epoch 1, Training loss 45.8830, Validation loss 14.5284\n",
      "Epoch 2, Training loss 31.3057, Validation loss 5.1708\n",
      "Epoch 3, Training loss 24.1730, Validation loss 1.7999\n",
      "Epoch 500, Training loss 7.2598, Validation loss 2.7805\n",
      "Epoch 1000, Training loss 3.5439, Validation loss 2.3056\n",
      "Epoch 1500, Training loss 2.1953, Validation loss 2.1202\n",
      "Epoch 2000, Training loss 1.7058, Validation loss 2.0450\n",
      "Epoch 2500, Training loss 1.5282, Validation loss 2.0130\n",
      "Epoch 3000, Training loss 1.4637, Validation loss 1.9985\n",
      "Epoch 3500, Training loss 1.4403, Validation loss 1.9915\n",
      "Epoch 4000, Training loss 1.4318, Validation loss 1.9880\n",
      "Epoch 4500, Training loss 1.4287, Validation loss 1.9861\n",
      "Epoch 5000, Training loss 1.4276, Validation loss 1.9850\n",
      "Epoch 5500, Training loss 1.4272, Validation loss 1.9844\n",
      "Epoch 6000, Training loss 1.4270, Validation loss 1.9840\n",
      "Epoch 6500, Training loss 1.4270, Validation loss 1.9838\n",
      "Epoch 7000, Training loss 1.4270, Validation loss 1.9837\n",
      "Epoch 7500, Training loss 1.4270, Validation loss 1.9836\n",
      "Epoch 8000, Training loss 1.4270, Validation loss 1.9835\n",
      "Epoch 8500, Training loss 1.4270, Validation loss 1.9835\n",
      "Epoch 9000, Training loss 1.4270, Validation loss 1.9835\n",
      "Epoch 9500, Training loss 1.4270, Validation loss 1.9835\n",
      "Epoch 10000, Training loss 1.4270, Validation loss 1.9835\n"
     ]
    }
   ],
   "source": [
    "t_u_ = np.array(t_u)*0.1\n",
    "t_c_ = torch.tensor(t_c)\n",
    "t_u_ = torch.tensor(t_u_)\n",
    "train_t_u, train_t_c, val_t_u, val_t_c = shuffle_and_devide_set(t_c_, t_u_, 0.2)\n",
    "params = torch.tensor([0.0, 1.0], dtype=float, requires_grad=True)\n",
    "lr = 1e-2\n",
    "optimizer = optim.SGD([params],lr)\n",
    "params = training_loop(10000,optimizer, params, train_t_u, val_t_u,train_t_c,  val_t_c )"
   ]
  }
 ],
 "metadata": {
  "interpreter": {
   "hash": "073421e87fd17c22a27d2f3fee98ef1fca5a2c350357a034bdf2d94dc9e5a0d1"
  },
  "kernelspec": {
   "display_name": "Python 3.9.7 64-bit ('ai_class': conda)",
   "language": "python",
   "name": "python3"
  },
  "language_info": {
   "codemirror_mode": {
    "name": "ipython",
    "version": 3
   },
   "file_extension": ".py",
   "mimetype": "text/x-python",
   "name": "python",
   "nbconvert_exporter": "python",
   "pygments_lexer": "ipython3",
   "version": "3.9.7"
  },
  "orig_nbformat": 4
 },
 "nbformat": 4,
 "nbformat_minor": 2
}
