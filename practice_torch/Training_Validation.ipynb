{
 "cells": [
  {
   "cell_type": "code",
   "execution_count": 3,
   "metadata": {},
   "outputs": [],
   "source": [
    "import numpy as np\n",
    "import torch \n",
    "torch.set_printoptions(edgeitems =2, linewidth =75)\n",
    "import torch.optim as optim\n",
    "t_c =[0.5, 14.0, 15.0, 28.0, 11.0, 8.0, 3.0, -4.0, 6.0, 13.0, 21.0]\n",
    "t_u =[35.7, 55.9, 58.2, 81.9, 56.3, 48.9, 33.9, 21.8, 48.4, 60.4, 68.4]\n",
    "t_c = torch.tensor(t_c)\n",
    "t_u = torch.tensor(t_u)\n",
    "t_un = 0.1*t_u\n",
    "\n",
    "\n",
    "def model(t_u, w, b):\n",
    "    return w*t_u+b \n",
    "\n",
    "def loss_fn(t_p, t_c):\n",
    "    square_diffs = (t_p -t_c)**2\n",
    "    return square_diffs.mean()\n",
    "\n",
    "def dloss_fn(t_p, t_c):\n",
    "    dsq_diffs = 2*(t_p - t_c) / t_p.size(0)\n",
    "    return dsq_diffs\n",
    "\n",
    "def dmodel_dw(t_u, w, b):\n",
    "    return t_u\n",
    "\n",
    "def dmodel_db(t_u, w, b):\n",
    "    return 1.0\n",
    "def grad_fn(t_u, t_c, t_p,w, b):\n",
    "    dloss_dtp = dloss_fn(t_p, t_c)\n",
    "    dloss_dw = dloss_dtp * dmodel_dw(t_u, w, b)\n",
    "    dloss_db = dloss_dtp * dmodel_db(t_u, w, b)\n",
    "    return torch.stack([dloss_dw.sum(), dloss_db.sum()])\n"
   ]
  },
  {
   "cell_type": "code",
   "execution_count": 8,
   "metadata": {},
   "outputs": [],
   "source": [
    "def training_loop(n_epochs, optimizer, params, train_t_u, val_t_u,train_t_c, val_t_c):\n",
    "    for epoch in range(1, n_epochs+1):\n",
    "        train_t_p = model(train_t_u, *params)\n",
    "        train_loss = loss_fn(train_t_p, train_t_c)\n",
    "\n",
    "        with torch.no_grad(): # context manager\n",
    "            val_t_p = model(val_t_u, *params)\n",
    "            val_loss = loss_fn(val_t_p, val_t_c)\n",
    "            assert val_loss.requires_grad == False\n",
    "\n",
    "        optimizer.zero_grad()\n",
    "        train_loss.backward()\n",
    "        optimizer.step()\n",
    "\n",
    "        if epoch <=3 or epoch % 500 == 0:\n",
    "            print(f\"Epoch {epoch}, Training loss {train_loss.item():.4f}, Validation loss {val_loss.item():.4f}\")\n",
    "    return params"
   ]
  },
  {
   "cell_type": "code",
   "execution_count": 5,
   "metadata": {},
   "outputs": [
    {
     "data": {
      "text/plain": [
       "(tensor([3, 1, 2, 8, 0, 7, 6, 9, 5]), tensor([ 4, 10]))"
      ]
     },
     "execution_count": 5,
     "metadata": {},
     "output_type": "execute_result"
    }
   ],
   "source": [
    "n_samples = t_u.shape[0]\n",
    "n_val = int(0.2*n_samples)\n",
    "\n",
    "shuffled_indices = torch.randperm(n_samples)\n",
    "\n",
    "train_indices = shuffled_indices[:-n_val]\n",
    "val_indices = shuffled_indices[-n_val:]\n",
    "\n",
    "train_indices, val_indices"
   ]
  },
  {
   "cell_type": "code",
   "execution_count": 6,
   "metadata": {},
   "outputs": [],
   "source": [
    "train_t_u = t_u[train_indices]\n",
    "train_t_c = t_c [train_indices]\n",
    "\n",
    "val_t_u = t_u[val_indices]\n",
    "val_t_c = t_c [val_indices]\n",
    "\n",
    "train_t_un = 0.1*train_t_u\n",
    "val_t_un = 0.1*val_t_u"
   ]
  },
  {
   "cell_type": "code",
   "execution_count": 9,
   "metadata": {},
   "outputs": [
    {
     "name": "stdout",
     "output_type": "stream",
     "text": [
      "Epoch 1, Training loss 72.7406, Validation loss 114.6712\n",
      "Epoch 2, Training loss 40.2682, Validation loss 46.4569\n",
      "Epoch 3, Training loss 33.9582, Validation loss 27.9884\n",
      "Epoch 500, Training loss 7.0645, Validation loss 6.8510\n",
      "Epoch 1000, Training loss 3.4611, Validation loss 4.2857\n",
      "Epoch 1500, Training loss 2.9574, Validation loss 3.5832\n",
      "Epoch 2000, Training loss 2.8870, Validation loss 3.3564\n",
      "Epoch 2500, Training loss 2.8772, Validation loss 3.2767\n",
      "Epoch 3000, Training loss 2.8758, Validation loss 3.2475\n"
     ]
    },
    {
     "data": {
      "text/plain": [
       "tensor([  5.2908, -16.8837], requires_grad=True)"
      ]
     },
     "execution_count": 9,
     "metadata": {},
     "output_type": "execute_result"
    }
   ],
   "source": [
    "params = torch.tensor([1.0, 0.0], requires_grad=True)\n",
    "learning_rate = 1e-2\n",
    "optimizer = optim.SGD([params], lr = learning_rate)\n",
    "\n",
    "training_loop(3000, optimizer, params, train_t_un,val_t_un, train_t_c, val_t_c )"
   ]
  },
  {
   "cell_type": "code",
   "execution_count": null,
   "metadata": {},
   "outputs": [],
   "source": [
    "def calc_forward(t_u, t_c, is_train:bool):\n",
    "    with torch.set_grad_enabled(is_train):\n",
    "        t_p = model(t_u, *params)\n",
    "        loss = loss_fn(t_p, t_c)\n",
    "    return loss"
   ]
  }
 ],
 "metadata": {
  "interpreter": {
   "hash": "073421e87fd17c22a27d2f3fee98ef1fca5a2c350357a034bdf2d94dc9e5a0d1"
  },
  "kernelspec": {
   "display_name": "Python 3.9.7 64-bit ('ai_class': conda)",
   "language": "python",
   "name": "python3"
  },
  "language_info": {
   "codemirror_mode": {
    "name": "ipython",
    "version": 3
   },
   "file_extension": ".py",
   "mimetype": "text/x-python",
   "name": "python",
   "nbconvert_exporter": "python",
   "pygments_lexer": "ipython3",
   "version": "3.9.7"
  },
  "orig_nbformat": 4
 },
 "nbformat": 4,
 "nbformat_minor": 2
}
