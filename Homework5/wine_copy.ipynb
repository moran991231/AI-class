{
 "cells": [
  {
   "cell_type": "code",
   "execution_count": 6,
   "metadata": {},
   "outputs": [],
   "source": [
    "import torch\n",
    "from torch.autograd import Variable\n",
    "import  torch.nn as nn\n",
    "import torch.nn.functional as F\n",
    "import torch.optim as optim\n",
    "from torch.utils.data import DataLoader, TensorDataset, random_split\n",
    "\n",
    "# scikit-learn 라이브러리 임포\n",
    "\n",
    "#Pandas 라이브러리 임포트\n",
    "import pandas as pd\n",
    "\n",
    "# Numpy 라이브러리 임포트\n",
    "import numpy as np\n",
    "\n",
    "# time 라이브러리 임포트\n",
    "import time"
   ]
  },
  {
   "cell_type": "code",
   "execution_count": 4,
   "metadata": {},
   "outputs": [],
   "source": [
    "dataframe_raw = pd.read_csv(\"./winequality-white.csv\",delimiter=\";\")"
   ]
  },
  {
   "cell_type": "code",
   "execution_count": 38,
   "metadata": {},
   "outputs": [
    {
     "data": {
      "text/plain": [
       "((4898, 11), (4898,))"
      ]
     },
     "execution_count": 38,
     "metadata": {},
     "output_type": "execute_result"
    }
   ],
   "source": [
    "def dataframe_to_arrays(dataframe):\n",
    "    input_cols = list(dataframe.columns)[:-1]\n",
    "    output_cols=list(dataframe.columns)[-1:]\n",
    "    dataframe1 = dataframe_raw.copy(deep=True)\n",
    "    inputs_array = dataframe1[input_cols].to_numpy(dtype=np.float32)\n",
    "    targets_array = dataframe1[output_cols].to_numpy(dtype=np.longlong).squeeze(1)-3\n",
    "    return inputs_array, targets_array\n",
    "inputs_array, targets_array = dataframe_to_arrays(dataframe_raw)\n",
    "inputs_array.shape, targets_array.shape\n"
   ]
  },
  {
   "cell_type": "code",
   "execution_count": 48,
   "metadata": {},
   "outputs": [],
   "source": [
    "inputs = torch.from_numpy(inputs_array).float()\n",
    "targets = torch.from_numpy(targets_array).long()\n",
    "\n",
    "dataset = TensorDataset(inputs, targets )\n",
    "num_samples = inputs.shape[0]\n",
    "num_train = int(num_samples*0.8); num_val = num_samples-num_train\n",
    "train_ds, val_ds = random_split(dataset,[num_train,num_val])\n",
    "train_loader = DataLoader(train_ds, batch_size=64, shuffle=True)\n",
    "val_loader = DataLoader(val_ds, batch_size=64)"
   ]
  },
  {
   "cell_type": "code",
   "execution_count": 49,
   "metadata": {},
   "outputs": [],
   "source": [
    "class Net(nn.Module):\n",
    "    def __init__(self):\n",
    "        super(Net, self).__init__()\n",
    "        self.fc1 = nn.Linear(11, 96)\n",
    "        self.fc2 = nn.Linear(96, 96)\n",
    "        self.fc3 = nn.Linear(96, 96)\n",
    "        self.fc4 = nn.Linear(96, 96)\n",
    "        self.fc5 = nn.Linear(96, 96)\n",
    "        self.fc6 = nn.Linear(96, 7)\n",
    "\n",
    "    def forward(self, x):\n",
    "        x = F.relu(self.fc1(x))\n",
    "        x = F.relu(self.fc2(x))\n",
    "        x = F.relu(self.fc3(x))\n",
    "        x = F.relu(self.fc4(x))\n",
    "        x = F.relu(self.fc5(x))\n",
    "        x = self.fc6(x)\n",
    "        return F.log_softmax(x, dim=1)\n",
    "\n",
    "model = Net()\n",
    "        \n",
    "        "
   ]
  },
  {
   "cell_type": "code",
   "execution_count": 51,
   "metadata": {},
   "outputs": [
    {
     "name": "stdout",
     "output_type": "stream",
     "text": [
      "50:: accuracy: 465 / 980 = 47.44897959183673%\n",
      "100:: accuracy: 448 / 980 = 45.714285714285715%\n",
      "150:: accuracy: 470 / 980 = 47.95918367346939%\n",
      "200:: accuracy: 302 / 980 = 30.816326530612244%\n",
      "250:: accuracy: 437 / 980 = 44.59183673469388%\n",
      "300:: accuracy: 436 / 980 = 44.48979591836735%\n",
      "350:: accuracy: 452 / 980 = 46.12244897959184%\n",
      "400:: accuracy: 437 / 980 = 44.59183673469388%\n",
      "450:: accuracy: 459 / 980 = 46.83673469387755%\n",
      "500:: accuracy: 485 / 980 = 49.48979591836735%\n",
      "550:: accuracy: 473 / 980 = 48.265306122448976%\n",
      "600:: accuracy: 443 / 980 = 45.204081632653065%\n",
      "650:: accuracy: 424 / 980 = 43.265306122448976%\n",
      "700:: accuracy: 478 / 980 = 48.775510204081634%\n",
      "750:: accuracy: 499 / 980 = 50.91836734693877%\n",
      "800:: accuracy: 453 / 980 = 46.224489795918366%\n",
      "850:: accuracy: 427 / 980 = 43.57142857142857%\n",
      "900:: accuracy: 469 / 980 = 47.857142857142854%\n",
      "950:: accuracy: 408 / 980 = 41.63265306122449%\n",
      "1000:: accuracy: 406 / 980 = 41.42857142857143%\n",
      "Wall time: 2min 12s\n"
     ]
    }
   ],
   "source": [
    "%%time\n",
    "criterion = nn.CrossEntropyLoss()\n",
    "optimizer = optim.SGD(model.parameters(), lr = 0.01)\n",
    "\n",
    "for epoch in range(1,1000+1):\n",
    "    total_loss=0\n",
    "\n",
    "    for train_x, train_y in train_loader:\n",
    "        # train_x, train_y = Variable(train_x), Variable(train_y)\n",
    "        optimizer.zero_grad()\n",
    "        output = model.forward(train_x)\n",
    "        loss = criterion(output, train_y)\n",
    "        loss.backward()\n",
    "        optimizer.step()\n",
    "        total_loss += loss.data\n",
    "\n",
    "    if(epoch%50)==0:\n",
    "        total=0; correct=0;\n",
    "        for inputs, labels in val_loader:\n",
    "            inputs, labels = inputs, labels\n",
    "            outputs = model(inputs)\n",
    "            _, predicted = torch.max(outputs, dim=1)\n",
    "            for label, p in zip(labels, predicted):\n",
    "                if(int(label)==int(p)):\n",
    "                    correct+=1                    \n",
    "            total+= labels.shape[0]\n",
    "        print(f\"{epoch}:: accuracy: {correct} / {total} = {100.0*correct/total}%\")"
   ]
  },
  {
   "cell_type": "code",
   "execution_count": 47,
   "metadata": {},
   "outputs": [
    {
     "name": "stdout",
     "output_type": "stream",
     "text": [
      "accuracy: 503 / 980 = 51.326530612244895%\n"
     ]
    }
   ],
   "source": [
    "total=0; correct=0;\n",
    "for inputs, labels in val_loader:\n",
    "    inputs, labels = inputs, labels\n",
    "    outputs = model(inputs)\n",
    "    _, predicted = torch.max(outputs, dim=1)\n",
    "    for label, p in zip(labels, predicted):\n",
    "        if(int(label)==int(p)):\n",
    "            correct+=1                    \n",
    "    total+= labels.shape[0]\n",
    "print(f\"accuracy: {correct} / {total} = {100.0*correct/total}%\")"
   ]
  },
  {
   "cell_type": "code",
   "execution_count": null,
   "metadata": {},
   "outputs": [],
   "source": []
  }
 ],
 "metadata": {
  "interpreter": {
   "hash": "073421e87fd17c22a27d2f3fee98ef1fca5a2c350357a034bdf2d94dc9e5a0d1"
  },
  "kernelspec": {
   "display_name": "Python 3.9.7 64-bit ('ai_class': conda)",
   "language": "python",
   "name": "python3"
  },
  "language_info": {
   "codemirror_mode": {
    "name": "ipython",
    "version": 3
   },
   "file_extension": ".py",
   "mimetype": "text/x-python",
   "name": "python",
   "nbconvert_exporter": "python",
   "pygments_lexer": "ipython3",
   "version": "3.9.7"
  },
  "orig_nbformat": 4
 },
 "nbformat": 4,
 "nbformat_minor": 2
}
