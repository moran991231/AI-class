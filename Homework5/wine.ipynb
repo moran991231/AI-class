{
 "cells": [
  {
   "cell_type": "code",
   "execution_count": 1,
   "metadata": {},
   "outputs": [],
   "source": [
    "# Load the wine data from chapter 4, and create a new model with the appropriate number of input parameters\n",
    "import csv\n",
    "import numpy as np\n",
    "import torch \n",
    "import torch.nn as nn\n",
    "import torch.optim as optim\n",
    "from matplotlib import pyplot as plt\n",
    "from collections import OrderedDict"
   ]
  },
  {
   "cell_type": "code",
   "execution_count": 2,
   "metadata": {},
   "outputs": [
    {
     "data": {
      "text/plain": [
       "array([[ 7.  ,  0.27,  0.36, ...,  0.45,  8.8 ,  6.  ],\n",
       "       [ 6.3 ,  0.3 ,  0.34, ...,  0.49,  9.5 ,  6.  ],\n",
       "       [ 8.1 ,  0.28,  0.4 , ...,  0.44, 10.1 ,  6.  ],\n",
       "       ...,\n",
       "       [ 6.5 ,  0.24,  0.19, ...,  0.46,  9.4 ,  6.  ],\n",
       "       [ 5.5 ,  0.29,  0.3 , ...,  0.38, 12.8 ,  7.  ],\n",
       "       [ 6.  ,  0.21,  0.38, ...,  0.32, 11.8 ,  6.  ]], dtype=float32)"
      ]
     },
     "execution_count": 2,
     "metadata": {},
     "output_type": "execute_result"
    }
   ],
   "source": [
    "wine_path=\"./winequality-white.csv\"\n",
    "wineq_numpy = np.loadtxt(wine_path, dtype=np.float32, delimiter=';', skiprows=1)\n",
    "wineq_numpy"
   ]
  },
  {
   "cell_type": "code",
   "execution_count": 3,
   "metadata": {},
   "outputs": [
    {
     "data": {
      "text/plain": [
       "(tensor([[ 7.0000,  0.2700,  0.3600,  ...,  3.0000,  0.4500,  8.8000],\n",
       "         [ 6.3000,  0.3000,  0.3400,  ...,  3.3000,  0.4900,  9.5000],\n",
       "         [ 8.1000,  0.2800,  0.4000,  ...,  3.2600,  0.4400, 10.1000],\n",
       "         ...,\n",
       "         [ 6.5000,  0.2400,  0.1900,  ...,  2.9900,  0.4600,  9.4000],\n",
       "         [ 5.5000,  0.2900,  0.3000,  ...,  3.3400,  0.3800, 12.8000],\n",
       "         [ 6.0000,  0.2100,  0.3800,  ...,  3.2600,  0.3200, 11.8000]]),\n",
       " tensor([6., 6., 6.,  ..., 6., 7., 6.]))"
      ]
     },
     "execution_count": 3,
     "metadata": {},
     "output_type": "execute_result"
    }
   ],
   "source": [
    "col_list = next(csv.reader(open(wine_path))) #next item from the iterator\n",
    "num_row = wineq_numpy.shape[0]\n",
    "num_col = wineq_numpy.shape[1]\n",
    "attrs = torch.tensor(np.array(wineq_numpy[:,0:11]))\n",
    "ans = torch.tensor(np.array(wineq_numpy[:,11]))\n",
    "attrs, ans"
   ]
  },
  {
   "cell_type": "code",
   "execution_count": 4,
   "metadata": {},
   "outputs": [
    {
     "data": {
      "text/plain": [
       "{0: 0,\n",
       " 1: 0,\n",
       " 2: 0,\n",
       " 3: 20,\n",
       " 4: 163,\n",
       " 5: 1457,\n",
       " 6: 2198,\n",
       " 7: 880,\n",
       " 8: 175,\n",
       " 9: 5,\n",
       " 10: 0}"
      ]
     },
     "execution_count": 4,
     "metadata": {},
     "output_type": "execute_result"
    }
   ],
   "source": [
    "quality = {0:0,1:0,2:0, 3:0, 4:0, 5:0, 6:0,7:0,8:0,9:0,10:0}\n",
    "for a in ans:\n",
    "    quality[a.item()]+=1\n",
    "quality"
   ]
  },
  {
   "cell_type": "code",
   "execution_count": 5,
   "metadata": {},
   "outputs": [],
   "source": [
    "def shuffle_and_devide_set(t_u: torch, t_c:torch, ratio):\n",
    "    n_samples = t_u.shape[0]\n",
    "    n_val = int(ratio*n_samples)\n",
    "\n",
    "    shuffled_indices = torch.randperm(n_samples)\n",
    "\n",
    "    train_indices = shuffled_indices[:-n_val]\n",
    "    val_indices = shuffled_indices[-n_val:]\n",
    "\n",
    "    train_indices, val_indices\n",
    "    train_t_u = t_u[train_indices]\n",
    "    train_t_c = t_c [train_indices]\n",
    "\n",
    "    val_t_u = t_u[val_indices]\n",
    "    val_t_c = t_c [val_indices]\n",
    "\n",
    "    return train_t_u, train_t_c, val_t_u, val_t_c"
   ]
  },
  {
   "cell_type": "code",
   "execution_count": 6,
   "metadata": {},
   "outputs": [
    {
     "name": "stdout",
     "output_type": "stream",
     "text": [
      "torch.Size([3919, 11]) torch.Size([979, 11])\n",
      "torch.Size([3919, 1]) torch.Size([979, 1])\n",
      "tensor([6.8548e+00, 2.7824e-01, 3.3419e-01, 6.3914e+00, 4.5772e-02, 3.5308e+01,\n",
      "        1.3836e+02, 9.9403e-01, 3.1883e+00, 4.8985e-01, 1.0514e+01])\n",
      "tensor([0.6855, 0.2782, 0.3342, 0.6391, 0.0458, 0.3531, 1.3836, 0.0994, 0.3188,\n",
      "        0.4898, 1.0514])\n"
     ]
    }
   ],
   "source": [
    "col_norm1 = [True,False,False,True,False,False,False,True,True,False,True]\n",
    "col_norm2 = [False,False,False,False,False,True,True,False,False,False,False]\n",
    "attrs_n = attrs.clone()\n",
    "attrs_n[:,col_norm1] *= 0.1\n",
    "attrs_n[:,col_norm2] *= 0.01\n",
    "ans_n = ans*0.1\n",
    "attr_t, ans_t, attr_v, ans_v = shuffle_and_devide_set(attrs_n, ans_n, 0.2)\n",
    "ans_t = ans_t.unsqueeze(1);\n",
    "ans_v = ans_v.unsqueeze(1);\n",
    "\n",
    "print(attr_t.shape, attr_v.shape)\n",
    "print(ans_t.shape, ans_v.shape)\n",
    "print(attrs.mean(dim=0))\n",
    "print( attrs_n.mean(dim=0))\n"
   ]
  },
  {
   "cell_type": "code",
   "execution_count": 7,
   "metadata": {},
   "outputs": [],
   "source": [
    "def compare_out_ans(output:torch, ans:torch) :\n",
    "    r_out = torch.round(output.squeeze()*10)\n",
    "    ans = ans.squeeze()*10\n",
    "    total=0\n",
    "    right=0\n",
    "    length = output.shape[0]\n",
    "    for i in range(0,length):\n",
    "        total+=1\n",
    "        if(r_out[i] == ans[i]):\n",
    "            right+=1\n",
    "    return right, total\n",
    "        \n"
   ]
  },
  {
   "cell_type": "code",
   "execution_count": 8,
   "metadata": {},
   "outputs": [],
   "source": [
    "def training_loop(n_epochs:int, optimizer, model, loss_fn, t_u_train, t_u_val, t_c_train, t_c_val):\n",
    "    for epoch in range(1, n_epochs+1):\n",
    "        t_p_train = model(t_u_train)\n",
    "        loss_train=loss_fn(t_p_train, t_c_train)\n",
    "\n",
    "        with torch.no_grad():\n",
    "            t_p_val = model(t_u_val)\n",
    "            loss_val = loss_fn(t_p_val, t_c_val)\n",
    "\n",
    "        optimizer.zero_grad()\n",
    "        loss_train.backward()\n",
    "        optimizer.step()\n",
    "\n",
    "        if epoch <=3 or epoch % 500 == 0:\n",
    "            right, total = compare_out_ans(t_p_val, t_c_val) \n",
    "            print(f\"Epoch {epoch:5d}, Train Loss {loss_train.item():.4f}, val loss {loss_val.item():.4f}\",\n",
    "            f\"    score: {right} / {total} = {right/total*100:.2f}%\")"
   ]
  },
  {
   "cell_type": "code",
   "execution_count": 12,
   "metadata": {},
   "outputs": [
    {
     "name": "stdout",
     "output_type": "stream",
     "text": [
      "Epoch     1, Train Loss 0.6393, val loss 0.6393     score: 0 / 979 = 0.00%\n",
      "Epoch     2, Train Loss 0.4976, val loss 0.4982     score: 0 / 979 = 0.00%\n",
      "Epoch     3, Train Loss 0.3755, val loss 0.3766     score: 0 / 979 = 0.00%\n",
      "Epoch   500, Train Loss 0.0058, val loss 0.0061     score: 508 / 979 = 51.89%\n",
      "Epoch  1000, Train Loss 0.0056, val loss 0.0057     score: 514 / 979 = 52.50%\n",
      "Epoch  1500, Train Loss 0.0055, val loss 0.0057     score: 512 / 979 = 52.30%\n",
      "Epoch  2000, Train Loss 0.0054, val loss 0.0055     score: 525 / 979 = 53.63%\n",
      "Epoch  2500, Train Loss 0.0054, val loss 0.0055     score: 526 / 979 = 53.73%\n",
      "Epoch  3000, Train Loss 0.0053, val loss 0.0054     score: 517 / 979 = 52.81%\n",
      "Epoch  3500, Train Loss 0.0053, val loss 0.0054     score: 517 / 979 = 52.81%\n",
      "Epoch  4000, Train Loss 0.0053, val loss 0.0054     score: 520 / 979 = 53.12%\n",
      "Epoch  4500, Train Loss 0.0052, val loss 0.0053     score: 521 / 979 = 53.22%\n",
      "Epoch  5000, Train Loss 0.0052, val loss 0.0054     score: 523 / 979 = 53.42%\n"
     ]
    }
   ],
   "source": [
    "model = nn.Sequential(OrderedDict([\n",
    "    ('hidden_linear', nn.Linear(11,11)),\n",
    "    ('hidden_activation', nn.Tanh()),\n",
    "    ('hidden_linear', nn.Linear(11,6)),\n",
    "    ('hidden_activation', nn.Tanh()),\n",
    "    ('output_linear', nn.Linear(6,1))\n",
    "       \n",
    "]))\n",
    "attr_t = attr_t.clone().detach().requires_grad_(True)\n",
    "attr_v = attr_v.clone().detach().requires_grad_(True)\n",
    "ans_t =  ans_t.clone().detach().requires_grad_(True)\n",
    "ans_v =  ans_v.clone().detach().requires_grad_(True)\n",
    "\n",
    "optimizer = optim.Adam(model.parameters(), lr =1e-2)\n",
    "loss_fn = nn.MSELoss() \n",
    "training_loop(\n",
    "    5000, \n",
    "    optimizer, \n",
    "    model, \n",
    "    loss_fn, \n",
    "    attr_t, \n",
    "    attr_v,\n",
    "    ans_t, \n",
    "    ans_v\n",
    ")\n",
    "\n"
   ]
  },
  {
   "cell_type": "code",
   "execution_count": 13,
   "metadata": {},
   "outputs": [
    {
     "data": {
      "text/plain": [
       "Text(0, 0.5, 'out')"
      ]
     },
     "execution_count": 13,
     "metadata": {},
     "output_type": "execute_result"
    },
    {
     "data": {
      "image/png": "[encoded data removed]",
      "text/plain": [
       "<Figure size 432x288 with 1 Axes>"
      ]
     },
     "metadata": {
      "needs_background": "light"
     },
     "output_type": "display_data"
    }
   ],
   "source": [
    "out = (model(attr_v)*10).detach().numpy()\n",
    "\n",
    "fig1= plt.plot(ans_v.detach().numpy()*10,out, 'o', )\n",
    "plt.xlabel(\"answer\")\n",
    "plt.ylabel(\"out\")"
   ]
  },
  {
   "cell_type": "code",
   "execution_count": null,
   "metadata": {},
   "outputs": [],
   "source": []
  }
 ],
 "metadata": {
  "interpreter": {
   "hash": "073421e87fd17c22a27d2f3fee98ef1fca5a2c350357a034bdf2d94dc9e5a0d1"
  },
  "kernelspec": {
   "display_name": "Python 3.9.7 64-bit ('ai_class': conda)",
   "language": "python",
   "name": "python3"
  },
  "language_info": {
   "codemirror_mode": {
    "name": "ipython",
    "version": 3
   },
   "file_extension": ".py",
   "mimetype": "text/x-python",
   "name": "python",
   "nbconvert_exporter": "python",
   "pygments_lexer": "ipython3",
   "version": "3.9.7"
  },
  "orig_nbformat": 4
 },
 "nbformat": 4,
 "nbformat_minor": 2
}
