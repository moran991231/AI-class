{
 "cells": [
  {
   "cell_type": "code",
   "execution_count": 1,
   "id": "18948054",
   "metadata": {},
   "outputs": [],
   "source": [
    "%matplotlib inline\n",
    "import numpy as np\n",
    "import torch\n",
    "import matplotlib.pyplot as plt\n",
    "torch.set_printoptions(edgeitems =2, linewidth =75)"
   ]
  },
  {
   "cell_type": "code",
   "execution_count": 2,
   "id": "e5922024",
   "metadata": {},
   "outputs": [],
   "source": [
    "t_c =[0.5, 14.0, 15.0, 28.0, 11.0, 8.0, 3.0, -4.0, 6.0, 13.0, 21.0]\n",
    "t_u =[35.7, 55.9, 58.2, 81.9, 56.3, 48.9, 33.9, 21.8, 48.4, 60.4, 68.4]\n",
    "t_c = torch.tensor(t_c)\n",
    "t_u = torch.tensor(t_u)"
   ]
  },
  {
   "cell_type": "code",
   "execution_count": null,
   "id": "b4bd505d",
   "metadata": {},
   "outputs": [],
   "source": [
    "plt.plot(t_c, t_u)"
   ]
  },
  {
   "cell_type": "code",
   "execution_count": null,
   "id": "2acff2bd",
   "metadata": {},
   "outputs": [],
   "source": []
  }
 ],
 "metadata": {
  "kernelspec": {
   "display_name": "ai_class",
   "language": "python",
   "name": "ai_class"
  },
  "language_info": {
   "codemirror_mode": {
    "name": "ipython",
    "version": 3
   },
   "file_extension": ".py",
   "mimetype": "text/x-python",
   "name": "python",
   "nbconvert_exporter": "python",
   "pygments_lexer": "ipython3",
   "version": "3.9.7"
  }
 },
 "nbformat": 4,
 "nbformat_minor": 5
}
